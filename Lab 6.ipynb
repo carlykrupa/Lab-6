{
 "cells": [
  {
   "cell_type": "code",
   "execution_count": 20,
   "id": "d456c16a",
   "metadata": {},
   "outputs": [],
   "source": [
    "import numpy as np"
   ]
  },
  {
   "cell_type": "code",
   "execution_count": 21,
   "id": "eedf13a7",
   "metadata": {},
   "outputs": [],
   "source": [
    "def rule1(c,dA):\n",
    "    dQ =c*dA\n",
    "    return dQ"
   ]
  },
  {
   "cell_type": "markdown",
   "id": "388b68a8",
   "metadata": {},
   "source": [
    "$\\Delta Q= c\\delta A$"
   ]
  },
  {
   "cell_type": "code",
   "execution_count": 22,
   "id": "888eca0e",
   "metadata": {},
   "outputs": [],
   "source": [
    "def rule2(c,m,A,dA):\n",
    "    dQ=c*m*A**(m-1)*dA\n",
    "    return dQ"
   ]
  },
  {
   "cell_type": "markdown",
   "id": "0e632266",
   "metadata": {},
   "source": [
    "$\\delta Q = cmA^{m-1}\\delta A$"
   ]
  },
  {
   "cell_type": "code",
   "execution_count": 23,
   "id": "3001b8eb",
   "metadata": {},
   "outputs": [],
   "source": [
    "def rule3(dA,dB):\n",
    "    dQ=sqrt(dA^2+dB^2)\n",
    "    return dQ"
   ]
  },
  {
   "cell_type": "markdown",
   "id": "be69c9e1",
   "metadata": {},
   "source": [
    "$\\delta Q=\\sqrt{(\\delta A)^2 +(\\delta B)^2}$"
   ]
  },
  {
   "cell_type": "code",
   "execution_count": 24,
   "id": "8a84ffb9",
   "metadata": {},
   "outputs": [],
   "source": [
    "def rule4(m,dA,A,n,dB,B,Q):\n",
    "    dQ=Q*sqrt((m*dA/A)**2+(n*dB/B)**2)\n",
    "    return dQ"
   ]
  },
  {
   "cell_type": "markdown",
   "id": "3505473f",
   "metadata": {},
   "source": [
    "$\\frac{\\delta Q}{Q}$=$V*\\sqrt{((m\\delta A/A )^2 + ((n\\delta B)/ B)^2}$"
   ]
  },
  {
   "cell_type": "markdown",
   "id": "14add98c",
   "metadata": {},
   "source": [
    "$\\delta Q=\\sqrt{(\\delta A)^2 +(\\delta B)^2}$"
   ]
  },
  {
   "cell_type": "code",
   "execution_count": null,
   "id": "0325d980",
   "metadata": {},
   "outputs": [],
   "source": []
  },
  {
   "cell_type": "code",
   "execution_count": 27,
   "id": "183fab64",
   "metadata": {},
   "outputs": [
    {
     "name": "stdout",
     "output_type": "stream",
     "text": [
      "0.0029028311382341505\n"
     ]
    }
   ],
   "source": [
    "def rule4(m,dX,x,n,dY,y,Q):\n",
    "    dQ=Q*np.sqrt((m*dX/x)**2+(n*dY/y)**2)\n",
    "    return dQ\n",
    "\n",
    "m= 1\n",
    "dX= 0.001\n",
    "x= 1.5901\n",
    "n= -0.5\n",
    "dY= 0.001\n",
    "y= 1.005\n",
    "Q=3.62\n",
    "\n",
    "dQ= rule4(m,dX,x,n,dY,y,Q)\n",
    "print(dQ)"
   ]
  },
  {
   "cell_type": "markdown",
   "id": "d1d5254b",
   "metadata": {},
   "source": [
    "The results agree. "
   ]
  },
  {
   "cell_type": "code",
   "execution_count": 28,
   "id": "fc205746",
   "metadata": {},
   "outputs": [
    {
     "name": "stdout",
     "output_type": "stream",
     "text": [
      "[3.3  3.9  4.2  2.7  2.85 3.15]\n",
      "[10.89   15.21   17.64    7.29    8.1225  9.9225]\n",
      "1.1166666666666667 0.08027729719194864\n"
     ]
    }
   ],
   "source": [
    "x=np.array([1.1,1.3,1.4,0.9,0.95,1.05])\n",
    "y=x*3\n",
    "print (y)\n",
    "ysg=y**2\n",
    "print (ysg)\n",
    "\n",
    "err_x=np.std(x)/np.sqrt(5)\n",
    "avgx=np.average(x)\n",
    "print(avgx,err_x)"
   ]
  },
  {
   "cell_type": "markdown",
   "id": "507d3389",
   "metadata": {},
   "source": []
  }
 ],
 "metadata": {
  "kernelspec": {
   "display_name": "Python 3 (ipykernel)",
   "language": "python",
   "name": "python3"
  },
  "language_info": {
   "codemirror_mode": {
    "name": "ipython",
    "version": 3
   },
   "file_extension": ".py",
   "mimetype": "text/x-python",
   "name": "python",
   "nbconvert_exporter": "python",
   "pygments_lexer": "ipython3",
   "version": "3.9.12"
  }
 },
 "nbformat": 4,
 "nbformat_minor": 5
}
